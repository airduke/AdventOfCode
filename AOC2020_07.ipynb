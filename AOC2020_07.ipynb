{
  "nbformat": 4,
  "nbformat_minor": 0,
  "metadata": {
    "colab": {
      "name": "AOC2020-07.ipynb",
      "provenance": [],
      "authorship_tag": "ABX9TyMwiW7R7lvP6h6DBRtxGPrr",
      "include_colab_link": true
    },
    "kernelspec": {
      "name": "python3",
      "display_name": "Python 3"
    }
  },
  "cells": [
    {
      "cell_type": "markdown",
      "metadata": {
        "id": "view-in-github",
        "colab_type": "text"
      },
      "source": [
        "<a href=\"https://colab.research.google.com/github/airduke/AdventOfCode/blob/main/AOC2020_07.ipynb\" target=\"_parent\"><img src=\"https://colab.research.google.com/assets/colab-badge.svg\" alt=\"Open In Colab\"/></a>"
      ]
    },
    {
      "cell_type": "code",
      "metadata": {
        "id": "rs8grkmnS_FA"
      },
      "source": [
        "from google.colab import files\r\n",
        "uploaded = files.upload()"
      ],
      "execution_count": null,
      "outputs": []
    },
    {
      "cell_type": "code",
      "metadata": {
        "id": "oJThGUsKjf6J"
      },
      "source": [
        "text_file = open(\"input.txt\", \"r\")\r\n",
        "lines = text_file.readlines()\r\n",
        "print (lines)\r\n",
        "print (len(lines))\r\n",
        "text_file.close()"
      ],
      "execution_count": null,
      "outputs": []
    },
    {
      "cell_type": "code",
      "metadata": {
        "id": "mf-Cjnl3jjNv"
      },
      "source": [
        "import re\r\n",
        "import networkx as nx\r\n",
        "\r\n",
        "my_digraph = nx.DiGraph()\r\n",
        "for line in lines:\r\n",
        "  match = re.match(r\"(.*) bags contain (.*)$\", line)\r\n",
        "  if match:\r\n",
        "    parent     = match.group(1)\r\n",
        "    p_contains = match.group(2)\r\n",
        "    for child in re.findall(r\"([\\d]+) (.*?) bag\", p_contains):\r\n",
        "      my_digraph.add_edge(parent, child[1], count=int(child[0]))\r\n",
        "\r\n",
        "nx.draw_networkx(my_digraph)\r\n",
        "print(len(nx.ancestors(my_digraph, \"shiny gold\")))"
      ],
      "execution_count": null,
      "outputs": []
    },
    {
      "cell_type": "code",
      "metadata": {
        "id": "5SL-zw1sng49"
      },
      "source": [
        "\r\n",
        "def countChildrenBags(bag_name):\r\n",
        "  total = 0\r\n",
        "\r\n",
        "  for key, val in my_digraph[bag_name].items():\r\n",
        "    total+= val['count'] * countChildrenBags(key) + val['count']\r\n",
        "\r\n",
        "  return total\r\n",
        "  \r\n",
        "print(countChildrenBags('shiny gold'))"
      ],
      "execution_count": null,
      "outputs": []
    }
  ]
}