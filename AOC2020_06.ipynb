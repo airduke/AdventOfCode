{
  "nbformat": 4,
  "nbformat_minor": 0,
  "metadata": {
    "colab": {
      "name": "AOC2020-06.ipynb",
      "provenance": [],
      "authorship_tag": "ABX9TyOjPFWb6mWgfRw73h3IRO8S",
      "include_colab_link": true
    },
    "kernelspec": {
      "name": "python3",
      "display_name": "Python 3"
    }
  },
  "cells": [
    {
      "cell_type": "markdown",
      "metadata": {
        "id": "view-in-github",
        "colab_type": "text"
      },
      "source": [
        "<a href=\"https://colab.research.google.com/github/airduke/AdventOfCode/blob/main/AOC2020_06.ipynb\" target=\"_parent\"><img src=\"https://colab.research.google.com/assets/colab-badge.svg\" alt=\"Open In Colab\"/></a>"
      ]
    },
    {
      "cell_type": "code",
      "metadata": {
        "id": "Tq4GNc8Q3Fv5"
      },
      "source": [
        "from google.colab import files\r\n",
        "uploaded = files.upload()"
      ],
      "execution_count": null,
      "outputs": []
    },
    {
      "cell_type": "code",
      "metadata": {
        "id": "aUdIFHV38OF7"
      },
      "source": [
        "text_file = open(\"input.txt\", \"r\")\r\n",
        "lines = text_file.readlines()\r\n",
        "print (lines)\r\n",
        "print (len(lines))\r\n",
        "text_file.close()"
      ],
      "execution_count": null,
      "outputs": []
    },
    {
      "cell_type": "code",
      "metadata": {
        "id": "NLw__vlH8W_M"
      },
      "source": [
        "import numpy\r\n",
        "def Is_B(s):\r\n",
        "    if(s=='B'):\r\n",
        "      return 1\r\n",
        "    else: return 0\r\n",
        "def Is_R(s):\r\n",
        "    if(s=='R'):\r\n",
        "      return 1\r\n",
        "    else: return 0\r\n",
        "\r\n",
        "groups = numpy.zeros((len(lines),26))\r\n",
        "group_num = 0\r\n",
        "num_in_group =0\r\n",
        "for line in lines:\r\n",
        "  if(line==\"\\n\"):\r\n",
        "    print(num_in_group, \" \",         groups[group_num])\r\n",
        "    for x in range(0,26):\r\n",
        "      if(groups[group_num][x]!=num_in_group):\r\n",
        "        groups[group_num][x] = 0\r\n",
        "      else:\r\n",
        "        groups[group_num][x] = 1\r\n",
        "    print(num_in_group, \" \",         groups[group_num])\r\n",
        "    group_num+=1    \r\n",
        "    num_in_group =0\r\n",
        "  else:\r\n",
        "    num_in_group +=1\r\n",
        "    for e in line:\r\n",
        "      if(e!='\\n'):\r\n",
        "        val = ord(e)-97\r\n",
        "#        print(e)\r\n",
        "#        print(val)\r\n",
        "        groups[group_num][val] += 1\r\n",
        "\r\n",
        "print(num_in_group, \" \",         groups[group_num])\r\n",
        "for x in range(0,26):\r\n",
        "  if(groups[group_num][x]!=num_in_group):\r\n",
        "    groups[group_num][x] = 0\r\n",
        "  else:\r\n",
        "    groups[group_num][x] = 1\r\n",
        "print(num_in_group, \" \",         groups[group_num])\r\n",
        "  \r\n",
        "\r\n",
        "print(sum(sum(groups)))\r\n",
        "\r\n",
        "\r\n"
      ],
      "execution_count": null,
      "outputs": []
    }
  ]
}