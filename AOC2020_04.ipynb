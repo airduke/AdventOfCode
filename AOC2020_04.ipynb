{
  "nbformat": 4,
  "nbformat_minor": 0,
  "metadata": {
    "colab": {
      "name": "AOC2020-04.ipynb",
      "provenance": [],
      "authorship_tag": "ABX9TyNyd2bQkB90UCjk8Iid54yI",
      "include_colab_link": true
    },
    "kernelspec": {
      "name": "python3",
      "display_name": "Python 3"
    }
  },
  "cells": [
    {
      "cell_type": "markdown",
      "metadata": {
        "id": "view-in-github",
        "colab_type": "text"
      },
      "source": [
        "<a href=\"https://colab.research.google.com/github/airduke/AdventOfCode/blob/main/AOC2020_04.ipynb\" target=\"_parent\"><img src=\"https://colab.research.google.com/assets/colab-badge.svg\" alt=\"Open In Colab\"/></a>"
      ]
    },
    {
      "cell_type": "code",
      "metadata": {
        "id": "OmC9RILLII5C"
      },
      "source": [
        "\n",
        "from google.colab import files\n",
        "uploaded = files.upload()"
      ],
      "execution_count": null,
      "outputs": []
    },
    {
      "cell_type": "code",
      "metadata": {
        "id": "DxVB-8LLIR7s"
      },
      "source": [
        "text_file = open(\"input-test2.txt\", \"r\")\n",
        "lines = text_file.readlines()\n",
        "#print (lines)\n",
        "print (len(lines))\n",
        "text_file.close()"
      ],
      "execution_count": null,
      "outputs": []
    },
    {
      "cell_type": "code",
      "metadata": {
        "id": "TrQdWv9rIfdS"
      },
      "source": [
        ""
      ],
      "execution_count": null,
      "outputs": []
    },
    {
      "cell_type": "code",
      "metadata": {
        "id": "EScBofy-IUVp"
      },
      "source": [
        "text_file = open(\"input.txt\", \"r\")\n",
        "lines = text_file.readlines()\n",
        "#print (lines)\n",
        "print (len(lines))\n",
        "text_file.close()"
      ],
      "execution_count": null,
      "outputs": []
    },
    {
      "cell_type": "code",
      "metadata": {
        "id": "-LbBLDEMIgUt"
      },
      "source": [
        "import re\n",
        "def RepresentsInt(s):\n",
        "    try: \n",
        "        int(s)\n",
        "        return True\n",
        "    except ValueError:\n",
        "        return False\n",
        "\n",
        "\n",
        "num_valid = 0    \n",
        "output=[0,0,0,0,0,0,0,0]\n",
        "eye_colors = [\"amb\",\"blu\", \"brn\", \"gry\", \"grn\", \"hzl\" ,\"oth\"]\n",
        "set_val= [\"\",\"\"]\n",
        "for line in lines:\n",
        "    if(line != \"\\n\"):\n",
        "      line = line.strip() # remove leading/trailing white spaces\n",
        "      line_split = line.split(\":\",1)\n",
        "      while(len(line_split[0])>0 and len(line_split[1])>0):\n",
        "        next_split = line_split[1].split(\" \",1)\n",
        "        val = next_split[0]\n",
        "        val = val.strip() # remove leading/trailing white spaces\n",
        "        if(line_split[0]==\"byr\"):\n",
        "          if(RepresentsInt(val)):\n",
        "            v = int(val)\n",
        "            if((v>=1920)and(v<=2002)):\n",
        "              output[0] = 1\n",
        "        elif(line_split[0]==\"iyr\"):\n",
        "          if(RepresentsInt(val)):\n",
        "            v = int(val)\n",
        "            if((v>=2010)and(v<=2020)):\n",
        "              output[1] = 1\n",
        "        elif(line_split[0]==\"eyr\"):\n",
        "          if(RepresentsInt(val)):\n",
        "            v = int(val)\n",
        "            if((v>=2020)and(v<=2030)):\n",
        "              output[2] = 1\n",
        "        elif(line_split[0]==\"hgt\"):\n",
        "          hgt_split = re.split('(\\d+)',val)\n",
        "          if(len(hgt_split)>2):\n",
        "            if(hgt_split[2]==\"cm\"):\n",
        "              if(RepresentsInt(hgt_split[1])):\n",
        "                v = int(hgt_split[1])\n",
        "                if((v>=150)and(v<=193)):\n",
        "                  output[3] = 1\n",
        "            if(hgt_split[2]==\"in\"):\n",
        "              if(RepresentsInt(hgt_split[1])):\n",
        "                v = int(hgt_split[1])\n",
        "                if((v>=59)and(v<=76)):\n",
        "                  output[3] = 1\n",
        "        elif(line_split[0]==\"hcl\"):\n",
        "          if(re.search(r'^#(?:[0-9a-fA-F]{3}){1,2}$', val)):\n",
        "            output[4] = 1\n",
        "        elif(line_split[0]==\"ecl\"):\n",
        "          set_val[0] = val\n",
        "          if(val in eye_colors):\n",
        "            output[5] = 1\n",
        "        elif(line_split[0]==\"pid\"):\n",
        "          if(RepresentsInt(val)):\n",
        "            v = int(val)\n",
        "            if((v>=0)and(v<1000000000)and(len(val)==9)):\n",
        "              output[6] = 1\n",
        "            else: print(\"inv: \" + line_split[0] + \"\\t\" + val)\n",
        "        elif(line_split[0]==\"cid\"):\n",
        "          output[7] = 1\n",
        "        line = line_split[1]\n",
        "        line_split = line.split(\" \",1)\n",
        "        if(len(line_split)>1):\n",
        "          line = line_split[1]\n",
        "          line_split = line.split(\":\",1)\n",
        "        else:\n",
        "          line_split[0] = \"\"\n",
        "    else:\n",
        "      print(output)\n",
        "      if((output==[1,1,1,1,1,1,1,1]) or (output==[1,1,1,1,1,1,1,0])):\n",
        "        num_valid +=1\n",
        "      output=[0,0,0,0,0,0,0,0]\n",
        "print(output)\n",
        "if((output==[1,1,1,1,1,1,1,1]) or (output==[1,1,1,1,1,1,1,0])):\n",
        "  num_valid +=1\n",
        "output=[0,0,0,0,0,0,0,0]\n",
        "\n",
        "print(num_valid)"
      ],
      "execution_count": null,
      "outputs": []
    }
  ]
}