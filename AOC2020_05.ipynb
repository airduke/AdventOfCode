{
  "nbformat": 4,
  "nbformat_minor": 0,
  "metadata": {
    "colab": {
      "name": "AOC2020-05.ipynb",
      "provenance": [],
      "authorship_tag": "ABX9TyMR+ktEXlduGMvIbTcBfJ1P",
      "include_colab_link": true
    },
    "kernelspec": {
      "name": "python3",
      "display_name": "Python 3"
    }
  },
  "cells": [
    {
      "cell_type": "markdown",
      "metadata": {
        "id": "view-in-github",
        "colab_type": "text"
      },
      "source": [
        "<a href=\"https://colab.research.google.com/github/airduke/AdventOfCode/blob/main/AOC2020_05.ipynb\" target=\"_parent\"><img src=\"https://colab.research.google.com/assets/colab-badge.svg\" alt=\"Open In Colab\"/></a>"
      ]
    },
    {
      "cell_type": "code",
      "metadata": {
        "id": "pSuzIz1fYw-m"
      },
      "source": [
        "from google.colab import files\n",
        "uploaded = files.upload()"
      ],
      "execution_count": null,
      "outputs": []
    },
    {
      "cell_type": "code",
      "metadata": {
        "id": "4iSdUU-2aYvL"
      },
      "source": [
        "text_file = open(\"input.txt\", \"r\")\n",
        "lines = text_file.readlines()\n",
        "print (lines)\n",
        "print (len(lines))\n",
        "text_file.close()"
      ],
      "execution_count": null,
      "outputs": []
    },
    {
      "cell_type": "code",
      "metadata": {
        "id": "oCfqTpW_cjta"
      },
      "source": [
        "import numpy\n",
        "def Is_B(s):\n",
        "    if(s=='B'):\n",
        "      return 1\n",
        "    else: return 0\n",
        "def Is_R(s):\n",
        "    if(s=='R'):\n",
        "      return 1\n",
        "    else: return 0\n",
        "\n",
        "passengers = numpy.zeros((len(lines),3))\n",
        "c_pass = 0\n",
        "seat_max = 0\n",
        "for line in lines:\n",
        "  passengers[c_pass][0] = Is_B(line[0])*64+Is_B(line[1])*32+Is_B(line[2])*16+Is_B(line[3])*8+Is_B(line[4])*4+Is_B(line[5])*2+Is_B(line[6])\n",
        "  passengers[c_pass][1] = Is_R(line[7])*4+Is_R(line[8])*2+Is_R(line[9])\n",
        "  passengers[c_pass][2] = passengers[c_pass][0] * 8 + passengers[c_pass][1]  \n",
        "  if(passengers[c_pass][2]>seat_max):\n",
        "    seat_max = passengers[c_pass][2]\n",
        "  c_pass+=1\n",
        "\n",
        "print(passengers)\n",
        "print(seat_max)\n",
        "\n",
        "\n",
        "seat_nums = passengers[:,2]\n",
        "seat_nums.sort()\n",
        "print(seat_nums)\n",
        "\n",
        "for x in range(32,912):\n",
        "  if((x not in seat_nums)):\n",
        "    print(x)\n",
        "\n"
      ],
      "execution_count": null,
      "outputs": []
    }
  ]
}